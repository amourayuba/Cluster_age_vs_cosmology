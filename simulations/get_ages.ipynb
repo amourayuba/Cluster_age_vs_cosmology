{
 "cells": [
  {
   "cell_type": "code",
   "execution_count": 1,
   "id": "88d3763c-5656-44eb-a783-9ad890d24865",
   "metadata": {},
   "outputs": [],
   "source": [
    "import sys\n",
    "sys.path.append('/home/painchess/clean_merger_rate')\n",
    "from simulation import *\n",
    "import numpy as np\n",
    "import h5py\n",
    "import matplotlib.pyplot as plt\n",
    "import matplotlib as mpl\n",
    "import csv\n",
    "import os\n",
    "from matplotlib import ticker"
   ]
  },
  {
   "cell_type": "code",
   "execution_count": 17,
   "id": "d5a4c2e6-4d4d-493e-831e-90398bb5498d",
   "metadata": {},
   "outputs": [],
   "source": [
    "sim_names = ['M25S07', 'M25S08', 'M25S09', 'M03S07', 'M03S08', 'M03S09', 'M35S07', 'M35S08', 'M35S09',\n",
    "                 'Illustris', 'BolshoiP', 'Bolshoi', 'M03S08b', 'm25s85', 'm2s8', 'm4s7', 'm4s8', 'm2s9',\n",
    "                 'm3s8_50', 'm3s8', 'm35s75', 'm4s9', 'm3s9', 'm25s75', 'm2s1', 'm3s7', 'm3s85', 'm2s7', 'm25s8',\n",
    "                 'm35s8', 'm25s9', 'm35s85', 'm3s75', 'm35s9', 'm35s7']\n",
    "omegas = [0.25, 0.25, 0.25, 0.3, 0.3, 0.3, 0.35, 0.35, 0.35, 0.309, 0.307, 0.27, 0.3, 0.25, 0.2, 0.4, 0.4, 0.2, 0.3\n",
    "    , 0.3, 0.35, 0.4, 0.3, 0.25, 0.2, 0.3, 0.3, 0.2, 0.25, 0.35, 0.25, 0.35, 0.3, 0.35, 0.35]\n",
    "sigmas = [0.7, 0.8, 0.9, 0.7, 0.8, 0.9, 0.7, 0.8, 0.9, 0.816, 0.82, 0.82, 0.8, 0.85, 0.8, 0.7, 0.8, 0.9, 0.8\n",
    "    , 0.8, 0.75, 0.9, 0.9, 0.75, 1.0, 0.7, 0.85, 0.7, 0.8, 0.8, 0.9, 0.85, 0.75, 0.9, 0.7]\n",
    "\n",
    "sims = dict(zip(sim_names, list(zip(omegas, sigmas))))"
   ]
  },
  {
   "cell_type": "code",
   "execution_count": 2,
   "id": "c6333c91-1c61-43b9-8262-9399426361fc",
   "metadata": {},
   "outputs": [],
   "source": [
    "path = '/home/painchess/YubaHDD6T/oldsims/'\n",
    "sim1 = Simulation('M03S08', 0.3, 0.8, path)\n",
    "rd = sim1.get_redshifts()"
   ]
  },
  {
   "cell_type": "code",
   "execution_count": 3,
   "id": "032b8e6d-caf5-4bbe-b7a1-dfe4f0e5539a",
   "metadata": {},
   "outputs": [
    {
     "name": "stderr",
     "output_type": "stream",
     "text": [
      "/home/painchess/clean_merger_rate/simulation.py:17: RuntimeWarning: overflow encountered in power\n",
      "  return (1 + z) ** beta * np.exp(-gamma * z)\n",
      "/home/painchess/clean_merger_rate/simulation.py:17: RuntimeWarning: invalid value encountered in multiply\n",
      "  return (1 + z) ** beta * np.exp(-gamma * z)\n"
     ]
    }
   ],
   "source": [
    "zxt, zmmt, mofzt, otht = sim1.make_zxs(z=0, save=False, snapnums=[5, 10, 15])"
   ]
  },
  {
   "cell_type": "code",
   "execution_count": 7,
   "id": "da3f9ec5-b5ff-4299-bfb9-ed27895d666c",
   "metadata": {},
   "outputs": [
    {
     "data": {
      "image/png": "[encoded data removed]",
      "text/plain": [
       "<Figure size 432x288 with 1 Axes>"
      ]
     },
     "metadata": {
      "needs_background": "light"
     },
     "output_type": "display_data"
    }
   ],
   "source": [
    "h = plt.hist(zxt['z50'][zxt['z50']<10], histtype='step', bins=20)"
   ]
  },
  {
   "cell_type": "markdown",
   "id": "aa12f6a6-b675-4aed-a1a7-6b9ec4f9f0d8",
   "metadata": {},
   "source": [
    "## z50 distributions "
   ]
  },
  {
   "cell_type": "code",
   "execution_count": 15,
   "id": "4560c65f-a73e-4d4f-a5c6-d2a98e4e8cb1",
   "metadata": {},
   "outputs": [
    {
     "name": "stderr",
     "output_type": "stream",
     "text": [
      "/home/painchess/clean_merger_rate/simulation.py:17: RuntimeWarning: overflow encountered in power\n",
      "  return (1 + z) ** beta * np.exp(-gamma * z)\n",
      "/home/painchess/clean_merger_rate/simulation.py:17: RuntimeWarning: invalid value encountered in multiply\n",
      "  return (1 + z) ** beta * np.exp(-gamma * z)\n"
     ]
    },
    {
     "data": {
      "text/plain": [
       "<matplotlib.legend.Legend at 0x7fe52ca44e50>"
      ]
     },
     "execution_count": 15,
     "metadata": {},
     "output_type": "execute_result"
    },
    {
     "data": {
      "image/png": "[encoded data removed]",
      "text/plain": [
       "<Figure size 432x288 with 1 Axes>"
      ]
     },
     "metadata": {
      "needs_background": "light"
     },
     "output_type": "display_data"
    }
   ],
   "source": [
    "selec = ['M35S07', 'M35S08', 'M35S09']\n",
    "path = '/home/painchess/YubaHDD6T/oldsims/'\n",
    "nb=50\n",
    "mmin, mmax = 1e14, 1e16\n",
    "for i in range(len(selec)):\n",
    "    sim = selec[i]\n",
    "    sim1 = Simulation(sim, sims[sim][0], sims[sim][1], path)\n",
    "    zxt, _, _, oth = sim1.make_zxs(z=0, save=True, snapnums=[10])\n",
    "    sel = zxt['z50'][(oth['Mass']<mmax)*(oth['Mass']>mmin)]\n",
    "    plt.hist(sel[sel<5], linestyle = '-', color ='C{}'.format(i), density=True, cumulative=-1, histtype='step', linewidth=2, bins=nb, label=sim)\n",
    "\n",
    "plt.xlim(0, 2)\n",
    "plt.xlabel('$z_{50}$', size=20)\n",
    "plt.ylabel('$N(z_{50}>z)$', size=16)\n",
    "plt.title('{:2.1e}<M<{:2.1e}'.format(mmin, mmax), size=12)\n",
    "plt.legend()\n",
    "#plt.savefig('nmono_z50_basic_{:2.1e}<M<{:2.1e}.png'.format(Mmin, Mmax), dpi=150, bbox_inches='tight')"
   ]
  },
  {
   "cell_type": "code",
   "execution_count": 18,
   "id": "36db8d8d-79e2-40e7-96cc-35a8235a6beb",
   "metadata": {},
   "outputs": [
    {
     "name": "stderr",
     "output_type": "stream",
     "text": [
      "/home/painchess/clean_merger_rate/simulation.py:17: RuntimeWarning: overflow encountered in power\n",
      "  return (1 + z) ** beta * np.exp(-gamma * z)\n",
      "/home/painchess/clean_merger_rate/simulation.py:17: RuntimeWarning: invalid value encountered in multiply\n",
      "  return (1 + z) ** beta * np.exp(-gamma * z)\n",
      "/home/painchess/clean_merger_rate/simulation.py:17: RuntimeWarning: overflow encountered in power\n",
      "  return (1 + z) ** beta * np.exp(-gamma * z)\n",
      "/home/painchess/clean_merger_rate/simulation.py:17: RuntimeWarning: invalid value encountered in multiply\n",
      "  return (1 + z) ** beta * np.exp(-gamma * z)\n",
      "/home/painchess/clean_merger_rate/simulation.py:17: RuntimeWarning: overflow encountered in exp\n",
      "  return (1 + z) ** beta * np.exp(-gamma * z)\n",
      "/home/painchess/clean_merger_rate/simulation.py:17: RuntimeWarning: overflow encountered in multiply\n",
      "  return (1 + z) ** beta * np.exp(-gamma * z)\n",
      "/tmp/ipykernel_9011/4020721358.py:9: UserWarning: evaluating in Python space because the '*' operator is not supported by numexpr for the bool dtype, use '&' instead.\n",
      "  sel = zxt['z50'][(oth['Mass']<mmax)*(oth['Mass']>mmin)]\n",
      "/home/painchess/clean_merger_rate/simulation.py:17: RuntimeWarning: overflow encountered in power\n",
      "  return (1 + z) ** beta * np.exp(-gamma * z)\n",
      "/home/painchess/clean_merger_rate/simulation.py:17: RuntimeWarning: invalid value encountered in multiply\n",
      "  return (1 + z) ** beta * np.exp(-gamma * z)\n",
      "/home/painchess/clean_merger_rate/simulation.py:17: RuntimeWarning: overflow encountered in exp\n",
      "  return (1 + z) ** beta * np.exp(-gamma * z)\n"
     ]
    },
    {
     "data": {
      "text/plain": [
       "<matplotlib.legend.Legend at 0x7fe5336bd190>"
      ]
     },
     "execution_count": 18,
     "metadata": {},
     "output_type": "execute_result"
    },
    {
     "data": {
      "image/png": "[encoded data removed]",
      "text/plain": [
       "<Figure size 432x288 with 1 Axes>"
      ]
     },
     "metadata": {
      "needs_background": "light"
     },
     "output_type": "display_data"
    }
   ],
   "source": [
    "selec = ['M03S08', 'Bolshoi', 'Illustris']\n",
    "path = '/home/painchess/YubaHDD6T/oldsims/'\n",
    "nb=50\n",
    "mmin, mmax = 1e11, 1e12\n",
    "for i in range(len(selec)):\n",
    "    sim = selec[i]\n",
    "    sim1 = Simulation(sim, sims[sim][0], sims[sim][1], path)\n",
    "    zxt, _, _, oth = sim1.make_zxs(z=0, save=True, snapnums=[10])\n",
    "    sel = zxt['z50'][(oth['Mass']<mmax)*(oth['Mass']>mmin)]\n",
    "    plt.hist(sel[sel<5], linestyle = '-', color ='C{}'.format(i), density=True, cumulative=-1, histtype='step', linewidth=2, bins=nb, label=sim)\n",
    "\n",
    "plt.xlim(0, 2)\n",
    "plt.xlabel('$z_{50}$', size=20)\n",
    "plt.ylabel('$N(z_{50}>z)$', size=16)\n",
    "plt.title('{:2.1e}<M<{:2.1e}'.format(mmin, mmax), size=12)\n",
    "plt.legend()\n",
    "#plt.savefig('nmono_z50_basic_{:2.1e}<M<{:2.1e}.png'.format(Mmin, Mmax), dpi=150, bbox_inches='tight')"
   ]
  },
  {
   "cell_type": "code",
   "execution_count": null,
   "id": "906defeb-1292-4da7-98f0-347c60e94282",
   "metadata": {},
   "outputs": [],
   "source": []
  }
 ],
 "metadata": {
  "kernelspec": {
   "display_name": "Python 3 (ipykernel)",
   "language": "python",
   "name": "python3"
  },
  "language_info": {
   "codemirror_mode": {
    "name": "ipython",
    "version": 3
   },
   "file_extension": ".py",
   "mimetype": "text/x-python",
   "name": "python",
   "nbconvert_exporter": "python",
   "pygments_lexer": "ipython3",
   "version": "3.11.4"
  }
 },
 "nbformat": 4,
 "nbformat_minor": 5
}
